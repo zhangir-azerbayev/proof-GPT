{
 "cells": [
  {
   "cell_type": "code",
   "execution_count": 1,
   "id": "78853223",
   "metadata": {},
   "outputs": [],
   "source": [
    "import jax\n",
    "import jax.numpy as jnp\n",
    "import optax\n",
    "import flax\n",
    "import math \n",
    "import random\n",
    "\n",
    "from matplotlib import pyplot as plt\n",
    "\n",
    "from flax.training import train_state\n",
    "from flax.training.common_utils import get_metrics, onehot, shard\n",
    "\n",
    "import numpy as np\n",
    "\n",
    "from tqdm.notebook import tqdm\n",
    "\n",
    "from transformers import FlaxAutoModelForCausalLM\n",
    "from transformers import AutoTokenizer\n",
    "\n",
    "from datasets import Dataset"
   ]
  },
  {
   "cell_type": "code",
   "execution_count": 2,
   "id": "7319c5c3",
   "metadata": {},
   "outputs": [],
   "source": [
    "MAX_SEQ_LENGTH = 9\n",
    "TRAINING_SEED = 20\n",
    "BATCH_SIZE = 512"
   ]
  },
  {
   "cell_type": "code",
   "execution_count": 3,
   "id": "006d07d7",
   "metadata": {},
   "outputs": [
    {
     "name": "stderr",
     "output_type": "stream",
     "text": [
      "WARNING:absl:No GPU/TPU found, falling back to CPU. (Set TF_CPP_MIN_LOG_LEVEL=0 and rerun for more info.)\n"
     ]
    }
   ],
   "source": [
    "model = FlaxAutoModelForCausalLM.from_pretrained(\"distilgpt2\", \n",
    "                                        seed=TRAINING_SEED, \n",
    "                                        dtype=jnp.dtype(\"bfloat16\"))"
   ]
  },
  {
   "cell_type": "code",
   "execution_count": 4,
   "id": "bd3fbfc3",
   "metadata": {},
   "outputs": [
    {
     "name": "stdout",
     "output_type": "stream",
     "text": [
      "<|endoftext|>\n"
     ]
    }
   ],
   "source": [
    "tokenizer = AutoTokenizer.from_pretrained(\n",
    "    \"../tokenizer/tokenizer_40000\"\n",
    ")\n",
    "print(tokenizer.eos_token)"
   ]
  },
  {
   "cell_type": "code",
   "execution_count": 5,
   "id": "b43c28a7",
   "metadata": {},
   "outputs": [
    {
     "name": "stdout",
     "output_type": "stream",
     "text": [
      "['1', 'Ġ2', 'Ġ3', 'Ġ4', 'Ġ5', 'Ġ6', 'Ġ7', 'Ġ8']\n",
      "['a', 'Ġb', 'Ġc', 'Ġd', 'Ġe', 'Ġf', 'Ġg', 'Ġh']\n",
      "['h', 'Ġg', 'Ġf', 'Ġe', 'Ġd', 'Ġc', 'Ġb', 'Ġa']\n"
     ]
    }
   ],
   "source": [
    "seq1 = \"1 2 3 4 5 6 7 8\"\n",
    "seq2 = \"a b c d e f g h\"\n",
    "seq3 = \"h g f e d c b a\"\n",
    "print(tokenizer(seq1).tokens())\n",
    "print(tokenizer(seq2).tokens())\n",
    "print(tokenizer(seq3).tokens())\n",
    "\n",
    "data_list = [seq1 for _ in range(1024)]\n",
    "data_list += [seq2 for _ in range(1024)]\n",
    "data_list += [seq3 for _ in range(1024)]\n",
    "\n",
    "random.shuffle(data_list)\n",
    "\n",
    "data_dict = {\"text\": data_list}\n",
    "\n",
    "dataset = Dataset.from_dict(data_dict)"
   ]
  },
  {
   "cell_type": "markdown",
   "id": "29470b93",
   "metadata": {},
   "source": [
    "I want my dataset iterator to take in parameters (dataset, tokenizer, number of training tokens, batch_size, seqlen). "
   ]
  },
  {
   "cell_type": "code",
   "execution_count": 6,
   "id": "546924bb",
   "metadata": {},
   "outputs": [],
   "source": [
    "from itertools import islice\n",
    "import sys\n",
    "\n",
    "# this toy dataset assumes all dataset examples are exactly `seqlen` \n",
    "# long when tokenized and that batch_size divides training_tokens\n",
    "class ToyDataIterator(): \n",
    "    def __init__(self, dataset, tokenizer, training_tokens, \n",
    "                seqlen, batch_size, seed): \n",
    "        self.tokenizer = tokenizer\n",
    "        self.dataset = dataset\n",
    "        self.seqlen = seqlen\n",
    "        self.training_tokens = training_tokens\n",
    "        self.batch_size = batch_size\n",
    "        self.seed = seed\n",
    "        \n",
    "    def __iter__(self): \n",
    "        # keeps looping until number of training tokens reached\n",
    "        tokens_so_far = 0 \n",
    "        while True: \n",
    "            iterator = iter(self.dataset.shuffle(seed=self.seed))\n",
    "            self.seed += 1\n",
    "            while any(iterator): \n",
    "                batch = list(islice(iterator, self.batch_size))\n",
    "                tokens = tokenizer([x[\"text\"] for x in batch],\n",
    "                                  max_length=self.seqlen, \n",
    "                                  truncation=True)\n",
    "                yield shard(jnp.array(tokens[\"input_ids\"]))\n",
    "                tokens_so_far += self.batch_size*self.seqlen\n",
    "                if tokens_so_far > self.training_tokens: \n",
    "                    return"
   ]
  },
  {
   "cell_type": "code",
   "execution_count": 7,
   "id": "a78842ad",
   "metadata": {},
   "outputs": [
    {
     "data": {
      "application/vnd.jupyter.widget-view+json": {
       "model_id": "2621d3b6129d47a78476e64418edf3cb",
       "version_major": 2,
       "version_minor": 0
      },
      "text/plain": [
       "0it [00:00, ?it/s]"
      ]
     },
     "metadata": {},
     "output_type": "display_data"
    },
    {
     "data": {
      "application/vnd.jupyter.widget-view+json": {
       "model_id": "91445ce9d35947d59b0b45cd698b7071",
       "version_major": 2,
       "version_minor": 0
      },
      "text/plain": [
       "0it [00:00, ?it/s]"
      ]
     },
     "metadata": {},
     "output_type": "display_data"
    },
    {
     "name": "stdout",
     "output_type": "stream",
     "text": [
      "[[[  17  476  715 ... 1396 1761 1776]\n",
      "  [  65  313  278 ...  283  353  440]\n",
      "  [  17  476  715 ... 1396 1761 1776]\n",
      "  ...\n",
      "  [  65  313  278 ...  283  353  440]\n",
      "  [  72  353  283 ...  278  313  262]\n",
      "  [  72  353  283 ...  278  313  262]]]\n"
     ]
    }
   ],
   "source": [
    "iterator = ToyDataIterator(dataset, tokenizer, training_tokens=2**20, \n",
    "                          seqlen=8, batch_size=512, seed=20)\n",
    "\n",
    "for _ in tqdm(iterator): \n",
    "    pass\n",
    "\n",
    "for x in tqdm(iterator): \n",
    "    print(x)\n",
    "    break"
   ]
  },
  {
   "cell_type": "markdown",
   "id": "183736b8",
   "metadata": {},
   "source": [
    "# Pretraining loop"
   ]
  },
  {
   "cell_type": "code",
   "execution_count": 8,
   "id": "b82f43db",
   "metadata": {},
   "outputs": [
    {
     "name": "stdout",
     "output_type": "stream",
     "text": [
      "devices:  1\n",
      "training steps:  512\n",
      "warmup steps:  200\n",
      "evaluation steps:  256\n"
     ]
    }
   ],
   "source": [
    "per_device_batch_size = 256\n",
    "num_epochs = 10\n",
    "training_seed = 0\n",
    "learning_rate = 3e-4\n",
    "alpha = 0.1\n",
    "training_tokens = 2 ** 20\n",
    "warmup_steps = 200\n",
    "eval_steps = 256\n",
    "seq_length = 8\n",
    "\n",
    "total_batch_size = per_device_batch_size * jax.device_count()\n",
    "training_steps = math.ceil(\n",
    "    training_tokens/(total_batch_size*seq_length))\n",
    "\n",
    "print(\"devices: \", jax.device_count())\n",
    "print(\"training steps: \", training_steps)\n",
    "print(\"warmup steps: \", warmup_steps)\n",
    "print(\"evaluation steps: \", eval_steps)"
   ]
  },
  {
   "cell_type": "markdown",
   "id": "bbf6b8a7",
   "metadata": {},
   "source": [
    "Defines the learning rate schedule and optimizer"
   ]
  },
  {
   "cell_type": "code",
   "execution_count": 9,
   "id": "6237523b",
   "metadata": {},
   "outputs": [
    {
     "data": {
      "image/png": "[encoded data removed]",
      "text/plain": [
       "<Figure size 432x288 with 1 Axes>"
      ]
     },
     "metadata": {
      "needs_background": "light"
     },
     "output_type": "display_data"
    }
   ],
   "source": [
    "warmup_fn = optax.linear_schedule(init_value=0.0,\n",
    "                                 end_value=learning_rate, \n",
    "                                 transition_steps=warmup_steps)\n",
    "\n",
    "decay_fn = optax.cosine_decay_schedule(init_value=learning_rate, \n",
    "                            decay_steps = training_steps-warmup_steps,\n",
    "                            alpha=alpha)\n",
    "\n",
    "schedule_fn = optax.join_schedules(schedules=[warmup_fn, decay_fn], \n",
    "                                  boundaries=[warmup_steps])\n",
    "\n",
    "values = [schedule_fn(i) for i in range(training_steps)]\n",
    "plt.plot(values)\n",
    "plt.show()\n",
    "\n",
    "optimizer = optax.adamw(learning_rate = schedule_fn, \n",
    "                       b1=0.9, b2=0.98, eps=1e-8, \n",
    "                       weight_decay=0.01)"
   ]
  },
  {
   "cell_type": "code",
   "execution_count": 10,
   "id": "fb68c0cb",
   "metadata": {},
   "outputs": [],
   "source": [
    "state = train_state.TrainState.create(apply_fn=model.__call__, \n",
    "                                     params=model.params, \n",
    "                                     tx=optimizer)"
   ]
  },
  {
   "cell_type": "code",
   "execution_count": 11,
   "id": "c42d4f5a",
   "metadata": {},
   "outputs": [],
   "source": [
    "def train_step(state, batch, dropout_rng): \n",
    "    dropout_rng, new_dropout_rng = jax.random.split(dropout_rng)\n",
    "    \n",
    "    def loss_fn(params): \n",
    "        logits = state.apply_fn(batch, \n",
    "                               params=params, \n",
    "                               dropout_rng=dropout_rng,\n",
    "                               train=True)[0]\n",
    "        loss = optax.softmax_cross_entropy(logits[..., :-1, :],\n",
    "               onehot(batch[..., 1:], logits.shape[-1])).mean()\n",
    "        return loss\n",
    "        \n",
    "    grad_fn = jax.value_and_grad(loss_fn)\n",
    "    loss, grad = grad_fn(state.params)\n",
    "    grad = jax.lax.pmean(grad, \"batch\")\n",
    "    new_state = state.apply_gradients(grads=grad)\n",
    "        \n",
    "    metrics = jax.lax.pmean(\n",
    "           {\"loss\": loss, \n",
    "            \"learning_rate\": schedule_fn(state.step)}, \n",
    "           axis_name = \"batch\"\n",
    "    )\n",
    "    \n",
    "    return new_state, metrics, new_dropout_rng"
   ]
  },
  {
   "cell_type": "code",
   "execution_count": 12,
   "id": "1a85f9b9",
   "metadata": {},
   "outputs": [],
   "source": [
    "def eval_step(params, batch): \n",
    "    logits = model(batch, params=params, train=False)[0]\n",
    "    \n",
    "    loss = optax.softmax_cross_entropy(logits[..., :-1, :], \n",
    "               onehot(labels[..., 1:], logits.shape[-1])).mean()\n",
    "    \n",
    "    metrics = {\"loss\": loss, \"perplexity\": jnp.exp(loss)}\n",
    "    return metrics"
   ]
  },
  {
   "cell_type": "code",
   "execution_count": 13,
   "id": "982f1e13",
   "metadata": {},
   "outputs": [],
   "source": [
    "parallel_train_step = jax.pmap(train_step, \"batch\")\n",
    "parallel_eval_step = jax.pmap(eval_step, \"batch\")\n",
    "state = flax.jax_utils.replicate(state)\n",
    "\n",
    "rng = jax.random.PRNGKey(TRAINING_SEED)\n",
    "dropout_rngs = jax.random.split(rng, jax.local_device_count())"
   ]
  },
  {
   "cell_type": "markdown",
   "id": "9d4536be",
   "metadata": {},
   "source": [
    "Now here is the training script"
   ]
  },
  {
   "cell_type": "code",
   "execution_count": null,
   "id": "72db61ab",
   "metadata": {},
   "outputs": [
    {
     "data": {
      "application/vnd.jupyter.widget-view+json": {
       "model_id": "a727cb1bd0404d319f18a558ccb37229",
       "version_major": 2,
       "version_minor": 0
      },
      "text/plain": [
       "  0%|          | 0/512 [00:00<?, ?it/s]"
      ]
     },
     "metadata": {},
     "output_type": "display_data"
    }
   ],
   "source": [
    "train_loader = ToyDataIterator(dataset, tokenizer, \n",
    "                               training_tokens=training_tokens, \n",
    "                               seqlen=seq_length, \n",
    "                               batch_size=total_batch_size, \n",
    "                               seed=TRAINING_SEED)\n",
    "\n",
    "eval_loader = ToyDataIterator(dataset, tokenizer, \n",
    "                             training_tokens=2**6, \n",
    "                             seqlen=seq_length, \n",
    "                             batch_size=total_batch_size, \n",
    "                             seed=TRAINING_SEED)\n",
    "\n",
    "for i, batch in tqdm(enumerate(train_loader), total=training_steps): \n",
    "    rng, input_rng = jax.random.split(rng)\n",
    "    \n",
    "    state, train_metric, dropout_rngs = parallel_train_step(state, \n",
    "                                                        batch, \n",
    "                                                        dropout_rngs)\n",
    "    \n",
    "    if i % eval_steps==0 and i > 0: \n",
    "        print(f\"evaluating at step {i}...\")\n",
    "        eval_metrics = []\n",
    "        eval_metric = parallel_eval_step(state.params, batch)\n",
    "        \n",
    "        for batch in eval_loader: \n",
    "            eval_metric = parallel_eval_step(state.params, batch)\n",
    "            eval_metrics.append(eval_metric)\n",
    "            \n",
    "        eval_metrics = get_metrics(eval_metrics)\n",
    "        eval_metrics = jax.tree_map(jnp.mean, eval_metrics)\n",
    "        \n",
    "        print(eval_metrics)\n",
    "        \n",
    "        \n",
    "    "
   ]
  },
  {
   "cell_type": "code",
   "execution_count": null,
   "id": "e8df5766",
   "metadata": {},
   "outputs": [],
   "source": []
  }
 ],
 "metadata": {
  "kernelspec": {
   "display_name": "Python 3 (ipykernel)",
   "language": "python",
   "name": "python3"
  },
  "language_info": {
   "codemirror_mode": {
    "name": "ipython",
    "version": 3
   },
   "file_extension": ".py",
   "mimetype": "text/x-python",
   "name": "python",
   "nbconvert_exporter": "python",
   "pygments_lexer": "ipython3",
   "version": "3.10.4"
  }
 },
 "nbformat": 4,
 "nbformat_minor": 5
}
